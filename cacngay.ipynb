{
 "cells": [
  {
   "cell_type": "code",
   "execution_count": 1,
   "id": "07e13fcf-7f74-4314-ae48-8924b49a1229",
   "metadata": {},
   "outputs": [
    {
     "name": "stdin",
     "output_type": "stream",
     "text": [
      "Nhập một số trong khoảng từ 1 đến 7:  3\n"
     ]
    },
    {
     "name": "stdout",
     "output_type": "stream",
     "text": [
      "Wednesday\n"
     ]
    }
   ],
   "source": [
    "def in_ngay_tuong_ung(so):\n",
    "    if so == 1:\n",
    "        return \"Monday\"\n",
    "    elif so == 2:\n",
    "        return \"Tuesday\"\n",
    "    elif so == 3:\n",
    "        return \"Wednesday\"\n",
    "    elif so == 4:\n",
    "        return \"Thursday\"\n",
    "    elif so == 5:\n",
    "        return \"Friday\"\n",
    "    elif so == 6:\n",
    "        return \"Saturday\"\n",
    "    elif so == 7:\n",
    "        return \"Sunday\"\n",
    "    else:\n",
    "        return \"error, out of range\"\n",
    "\n",
    "\n",
    "so_nhap_vao = int(input(\"Nhập một số trong khoảng từ 1 đến 7: \"))\n",
    "ket_qua = in_ngay_tuong_ung(so_nhap_vao)\n",
    "print(ket_qua)"
   ]
  }
 ],
 "metadata": {
  "kernelspec": {
   "display_name": "Python 3 (ipykernel)",
   "language": "python",
   "name": "python3"
  },
  "language_info": {
   "codemirror_mode": {
    "name": "ipython",
    "version": 3
   },
   "file_extension": ".py",
   "mimetype": "text/x-python",
   "name": "python",
   "nbconvert_exporter": "python",
   "pygments_lexer": "ipython3",
   "version": "3.11.3"
  }
 },
 "nbformat": 4,
 "nbformat_minor": 5
}
