{
 "cells": [
  {
   "cell_type": "code",
   "execution_count": 1,
   "id": "b78b2ba7-53db-4b14-be8e-d926a13e4405",
   "metadata": {},
   "outputs": [
    {
     "name": "stdin",
     "output_type": "stream",
     "text": [
      "Nhập số tiền bạn đã chi tại cửa hàng: $ 50000\n"
     ]
    },
    {
     "name": "stdout",
     "output_type": "stream",
     "text": [
      "Tổng số tiền phải thanh toán sau khi áp dụng giảm giá là: $49950.0\n"
     ]
    }
   ],
   "source": [
    "def tinh_tien_giam_gia(so_tien_chi):\n",
    "    if so_tien_chi < 75:\n",
    "        return so_tien_chi\n",
    "    elif so_tien_chi < 100:\n",
    "        return so_tien_chi - 15\n",
    "    elif so_tien_chi < 150:\n",
    "        return so_tien_chi - 25\n",
    "    else:\n",
    "        return so_tien_chi - 50\n",
    "\n",
    "\n",
    "so_tien_chi = float(input(\"Nhập số tiền bạn đã chi tại cửa hàng: $\"))\n",
    "tong_tien_phai_thanh_toan = tinh_tien_giam_gia(so_tien_chi)\n",
    "print(f\"Tổng số tiền phải thanh toán sau khi áp dụng giảm giá là: ${tong_tien_phai_thanh_toan}\")"
   ]
  }
 ],
 "metadata": {
  "kernelspec": {
   "display_name": "Python 3 (ipykernel)",
   "language": "python",
   "name": "python3"
  },
  "language_info": {
   "codemirror_mode": {
    "name": "ipython",
    "version": 3
   },
   "file_extension": ".py",
   "mimetype": "text/x-python",
   "name": "python",
   "nbconvert_exporter": "python",
   "pygments_lexer": "ipython3",
   "version": "3.11.3"
  }
 },
 "nbformat": 4,
 "nbformat_minor": 5
}
