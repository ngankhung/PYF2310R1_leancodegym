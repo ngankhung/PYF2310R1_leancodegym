{
 "cells": [
  {
   "cell_type": "code",
   "execution_count": null,
   "id": "c954b4fa-e828-4498-9f60-069a45240d85",
   "metadata": {},
   "outputs": [],
   "source": [
    "Nhập vào số nguyên\n",
    "so_nguyen = int(input(\"Nhập vào một số nguyên: \"))\n",
    "\n",
    "Kiểm tra xem số nguyên có chia hết cho 2 hay không\n",
    "if so_nguyen % 2 == 0:\n",
    "    print(f\"{so_nguyen} là số chẵn.\")\n",
    "else:\n",
    "    print(f\"{so_nguyen} là số lẻ.\")"
   ]
  }
 ],
 "metadata": {
  "kernelspec": {
   "display_name": "Python 3 (ipykernel)",
   "language": "python",
   "name": "python3"
  },
  "language_info": {
   "codemirror_mode": {
    "name": "ipython",
    "version": 3
   },
   "file_extension": ".py",
   "mimetype": "text/x-python",
   "name": "python",
   "nbconvert_exporter": "python",
   "pygments_lexer": "ipython3",
   "version": "3.11.3"
  }
 },
 "nbformat": 4,
 "nbformat_minor": 5
}
