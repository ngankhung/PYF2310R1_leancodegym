{
 "cells": [
  {
   "cell_type": "code",
   "execution_count": 3,
   "id": "f8bebb9c-4f2c-4ee1-a7a5-ba971e0a6d3f",
   "metadata": {},
   "outputs": [
    {
     "name": "stdin",
     "output_type": "stream",
     "text": [
      "nhap so tien USD 5\n",
      "nhap ty gia: 25000\n"
     ]
    },
    {
     "name": "stdout",
     "output_type": "stream",
     "text": [
      "125000.0\n"
     ]
    }
   ],
   "source": [
    "tien_usd = float(input(\"nhap so tien USD\"))\n",
    "ty_gia = float(input(\"nhap ty gia:\"))\n",
    "tien_vnd = tien_usd * ty_gia\n",
    "print(tien_vnd)"
   ]
  }
 ],
 "metadata": {
  "kernelspec": {
   "display_name": "Python 3 (ipykernel)",
   "language": "python",
   "name": "python3"
  },
  "language_info": {
   "codemirror_mode": {
    "name": "ipython",
    "version": 3
   },
   "file_extension": ".py",
   "mimetype": "text/x-python",
   "name": "python",
   "nbconvert_exporter": "python",
   "pygments_lexer": "ipython3",
   "version": "3.11.3"
  }
 },
 "nbformat": 4,
 "nbformat_minor": 5
}
