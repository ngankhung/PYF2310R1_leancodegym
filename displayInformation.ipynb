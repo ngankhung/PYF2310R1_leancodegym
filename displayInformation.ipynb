{
 "cells": [
  {
   "cell_type": "code",
   "execution_count": 5,
   "id": "43772195-581c-49d3-885c-cce5e04df01b",
   "metadata": {},
   "outputs": [
    {
     "name": "stdout",
     "output_type": "stream",
     "text": [
      "Họ và Tên: Tô Thị Kim Ngân\n",
      "Ngày sinh: 05/10/1989\n",
      "Địa chỉ: 66/4c, Trung Mỹ Tây, Trung Chánh, Hóc Môn, HCM\n",
      "Mục đích: chuyển ngành\n"
     ]
    }
   ],
   "source": [
    "print(\"Họ và Tên: Tô Thị Kim Ngân\")\n",
    "print(\"Ngày sinh: 05/10/1989\")\n",
    "print(\"Địa chỉ: 66/4c, Trung Mỹ Tây, Trung Chánh, Hóc Môn, HCM\")\n",
    "print(\"Mục đích: chuyển ngành\")\n"
   ]
  }
 ],
 "metadata": {
  "kernelspec": {
   "display_name": "Python 3 (ipykernel)",
   "language": "python",
   "name": "python3"
  },
  "language_info": {
   "codemirror_mode": {
    "name": "ipython",
    "version": 3
   },
   "file_extension": ".py",
   "mimetype": "text/x-python",
   "name": "python",
   "nbconvert_exporter": "python",
   "pygments_lexer": "ipython3",
   "version": "3.11.3"
  }
 },
 "nbformat": 4,
 "nbformat_minor": 5
}
